{
 "cells": [
  {
   "cell_type": "code",
   "execution_count": 1,
   "id": "ec813076",
   "metadata": {},
   "outputs": [
    {
     "name": "stdout",
     "output_type": "stream",
     "text": [
      "WARNING:tensorflow:From C:\\Users\\tanya\\AppData\\Roaming\\Python\\Python311\\site-packages\\keras\\src\\losses.py:2976: The name tf.losses.sparse_softmax_cross_entropy is deprecated. Please use tf.compat.v1.losses.sparse_softmax_cross_entropy instead.\n",
      "\n"
     ]
    }
   ],
   "source": [
    "from tensorflow.keras.models import load_model\n",
    "from tensorflow.keras.preprocessing import image\n",
    "import numpy as np"
   ]
  },
  {
   "cell_type": "code",
   "execution_count": 3,
   "id": "e8ecfccb",
   "metadata": {},
   "outputs": [],
   "source": [
    "#Load the saved model\n",
    "model = load_model('D:\\Model (1).h5')"
   ]
  },
  {
   "cell_type": "code",
   "execution_count": 8,
   "id": "f72948c3",
   "metadata": {},
   "outputs": [],
   "source": [
    "#Load and preprocess the test image\n",
    "#any image to check\n",
    "test_image_path = r'D:\\SKIN CANCER\\test\\benign\\256.jpg'#r to remove OS Error\n",
    "img = image.load_img(test_image_path,target_size=(224,224))\n",
    "img_array=image.img_to_array(img)\n",
    "img_array=np.expand_dims(img_array,axis=0)"
   ]
  },
  {
   "cell_type": "code",
   "execution_count": 9,
   "id": "4f89f99b",
   "metadata": {},
   "outputs": [
    {
     "name": "stdout",
     "output_type": "stream",
     "text": [
      "1/1 [==============================] - 0s 94ms/step\n",
      "[[0.06822808]]\n"
     ]
    }
   ],
   "source": [
    "#Add batch dimension\n",
    "img_array/=255. #Normalize pixel values\n",
    "#Make predictions\n",
    "prediction=model.predict(img_array)\n",
    "#print prediction\n",
    "print(prediction) #Normalize the pixel values"
   ]
  },
  {
   "cell_type": "code",
   "execution_count": 10,
   "id": "3375dbe2",
   "metadata": {},
   "outputs": [
    {
     "name": "stdout",
     "output_type": "stream",
     "text": [
      "Benign \n"
     ]
    }
   ],
   "source": [
    "if prediction < 0.5:\n",
    "  print(\"Benign \")\n",
    "else:\n",
    "  print(\"Malignant\")"
   ]
  },
  {
   "cell_type": "code",
   "execution_count": null,
   "id": "c742da3f",
   "metadata": {},
   "outputs": [],
   "source": []
  }
 ],
 "metadata": {
  "kernelspec": {
   "display_name": "Python 3 (ipykernel)",
   "language": "python",
   "name": "python3"
  },
  "language_info": {
   "codemirror_mode": {
    "name": "ipython",
    "version": 3
   },
   "file_extension": ".py",
   "mimetype": "text/x-python",
   "name": "python",
   "nbconvert_exporter": "python",
   "pygments_lexer": "ipython3",
   "version": "3.11.5"
  }
 },
 "nbformat": 4,
 "nbformat_minor": 5
}
