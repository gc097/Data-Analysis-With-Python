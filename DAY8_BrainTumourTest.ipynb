{
  "nbformat": 4,
  "nbformat_minor": 0,
  "metadata": {
    "colab": {
      "provenance": []
    },
    "kernelspec": {
      "name": "python3",
      "display_name": "Python 3"
    },
    "language_info": {
      "name": "python"
    }
  },
  "cells": [
    {
      "cell_type": "code",
      "execution_count": null,
      "metadata": {
        "id": "DpOpRdn5klSL"
      },
      "outputs": [],
      "source": [
        "from tensorflow.keras.models import load_model\n",
        "from tensorflow.keras.preprocessing import image\n",
        "import numpy as np"
      ]
    },
    {
      "cell_type": "code",
      "source": [
        "#Load the saved model\n",
        "model = load_model('/content/drive/MyDrive/Brain Tumour/Model.h5')"
      ],
      "metadata": {
        "id": "LpGfgD9jk9uK"
      },
      "execution_count": null,
      "outputs": []
    },
    {
      "cell_type": "code",
      "source": [
        "#Load and preprocess the test image\n",
        "test_image_path = '/content/drive/MyDrive/Brain_Tumor_Detection-20240302T014033Z-001/Brain_Tumor_Detection/Train/yes/y1239.jpg'#any image to check\n",
        "img = image.load_img(test_image_path,target_size=(224,224))\n",
        "img_array=image.img_to_array(img)\n",
        "img_array=np.expand_dims(img_array,axis=0)"
      ],
      "metadata": {
        "id": "wqyEn6xOlHLI"
      },
      "execution_count": null,
      "outputs": []
    },
    {
      "cell_type": "code",
      "source": [
        "\n",
        "#Add batch dimension\n",
        "img_array/=255. #Normalize pixel values\n",
        "#Make predictions\n",
        "prediction=model.predict(img_array)\n",
        "#print prediction\n",
        "print(prediction) #Normalize the pixel values\n",
        "\n"
      ],
      "metadata": {
        "id": "yrzCP4_vnppZ",
        "colab": {
          "base_uri": "https://localhost:8080/"
        },
        "outputId": "1610dbb6-c638-4cd5-9a00-a544200eaef2"
      },
      "execution_count": null,
      "outputs": [
        {
          "output_type": "stream",
          "name": "stdout",
          "text": [
            "1/1 [==============================] - 0s 107ms/step\n",
            "[[0.99487007]]\n"
          ]
        }
      ]
    },
    {
      "cell_type": "code",
      "source": [
        "if prediction < 0.5:\n",
        "  print(\"Prediction :No tumor \")\n",
        "else:\n",
        "  print(\"Prediction: Tumor present\")"
      ],
      "metadata": {
        "id": "h0C1JEkTHOUY",
        "colab": {
          "base_uri": "https://localhost:8080/"
        },
        "outputId": "3a6c5280-f788-415b-bef4-f653357d0e50"
      },
      "execution_count": null,
      "outputs": [
        {
          "output_type": "stream",
          "name": "stdout",
          "text": [
            "Prediction: Tumor present\n"
          ]
        }
      ]
    }
  ]
}