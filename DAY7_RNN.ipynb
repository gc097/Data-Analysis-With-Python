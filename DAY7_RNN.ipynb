{
  "nbformat": 4,
  "nbformat_minor": 0,
  "metadata": {
    "colab": {
      "provenance": []
    },
    "kernelspec": {
      "name": "python3",
      "display_name": "Python 3"
    },
    "language_info": {
      "name": "python"
    }
  },
  "cells": [
    {
      "cell_type": "code",
      "execution_count": 2,
      "metadata": {
        "id": "DW_t7tLtQvWH",
        "colab": {
          "base_uri": "https://localhost:8080/"
        },
        "outputId": "f84f04e7-be92-43e0-ff96-2652ce79ae4a"
      },
      "outputs": [
        {
          "output_type": "stream",
          "name": "stdout",
          "text": [
            "Requirement already satisfied: tensorflow in /usr/local/lib/python3.10/dist-packages (2.15.0)\n",
            "Requirement already satisfied: absl-py>=1.0.0 in /usr/local/lib/python3.10/dist-packages (from tensorflow) (1.4.0)\n",
            "Requirement already satisfied: astunparse>=1.6.0 in /usr/local/lib/python3.10/dist-packages (from tensorflow) (1.6.3)\n",
            "Requirement already satisfied: flatbuffers>=23.5.26 in /usr/local/lib/python3.10/dist-packages (from tensorflow) (23.5.26)\n",
            "Requirement already satisfied: gast!=0.5.0,!=0.5.1,!=0.5.2,>=0.2.1 in /usr/local/lib/python3.10/dist-packages (from tensorflow) (0.5.4)\n",
            "Requirement already satisfied: google-pasta>=0.1.1 in /usr/local/lib/python3.10/dist-packages (from tensorflow) (0.2.0)\n",
            "Requirement already satisfied: h5py>=2.9.0 in /usr/local/lib/python3.10/dist-packages (from tensorflow) (3.9.0)\n",
            "Requirement already satisfied: libclang>=13.0.0 in /usr/local/lib/python3.10/dist-packages (from tensorflow) (16.0.6)\n",
            "Requirement already satisfied: ml-dtypes~=0.2.0 in /usr/local/lib/python3.10/dist-packages (from tensorflow) (0.2.0)\n",
            "Requirement already satisfied: numpy<2.0.0,>=1.23.5 in /usr/local/lib/python3.10/dist-packages (from tensorflow) (1.25.2)\n",
            "Requirement already satisfied: opt-einsum>=2.3.2 in /usr/local/lib/python3.10/dist-packages (from tensorflow) (3.3.0)\n",
            "Requirement already satisfied: packaging in /usr/local/lib/python3.10/dist-packages (from tensorflow) (23.2)\n",
            "Requirement already satisfied: protobuf!=4.21.0,!=4.21.1,!=4.21.2,!=4.21.3,!=4.21.4,!=4.21.5,<5.0.0dev,>=3.20.3 in /usr/local/lib/python3.10/dist-packages (from tensorflow) (3.20.3)\n",
            "Requirement already satisfied: setuptools in /usr/local/lib/python3.10/dist-packages (from tensorflow) (67.7.2)\n",
            "Requirement already satisfied: six>=1.12.0 in /usr/local/lib/python3.10/dist-packages (from tensorflow) (1.16.0)\n",
            "Requirement already satisfied: termcolor>=1.1.0 in /usr/local/lib/python3.10/dist-packages (from tensorflow) (2.4.0)\n",
            "Requirement already satisfied: typing-extensions>=3.6.6 in /usr/local/lib/python3.10/dist-packages (from tensorflow) (4.10.0)\n",
            "Requirement already satisfied: wrapt<1.15,>=1.11.0 in /usr/local/lib/python3.10/dist-packages (from tensorflow) (1.14.1)\n",
            "Requirement already satisfied: tensorflow-io-gcs-filesystem>=0.23.1 in /usr/local/lib/python3.10/dist-packages (from tensorflow) (0.36.0)\n",
            "Requirement already satisfied: grpcio<2.0,>=1.24.3 in /usr/local/lib/python3.10/dist-packages (from tensorflow) (1.62.0)\n",
            "Requirement already satisfied: tensorboard<2.16,>=2.15 in /usr/local/lib/python3.10/dist-packages (from tensorflow) (2.15.2)\n",
            "Requirement already satisfied: tensorflow-estimator<2.16,>=2.15.0 in /usr/local/lib/python3.10/dist-packages (from tensorflow) (2.15.0)\n",
            "Requirement already satisfied: keras<2.16,>=2.15.0 in /usr/local/lib/python3.10/dist-packages (from tensorflow) (2.15.0)\n",
            "Requirement already satisfied: wheel<1.0,>=0.23.0 in /usr/local/lib/python3.10/dist-packages (from astunparse>=1.6.0->tensorflow) (0.42.0)\n",
            "Requirement already satisfied: google-auth<3,>=1.6.3 in /usr/local/lib/python3.10/dist-packages (from tensorboard<2.16,>=2.15->tensorflow) (2.27.0)\n",
            "Requirement already satisfied: google-auth-oauthlib<2,>=0.5 in /usr/local/lib/python3.10/dist-packages (from tensorboard<2.16,>=2.15->tensorflow) (1.2.0)\n",
            "Requirement already satisfied: markdown>=2.6.8 in /usr/local/lib/python3.10/dist-packages (from tensorboard<2.16,>=2.15->tensorflow) (3.5.2)\n",
            "Requirement already satisfied: requests<3,>=2.21.0 in /usr/local/lib/python3.10/dist-packages (from tensorboard<2.16,>=2.15->tensorflow) (2.31.0)\n",
            "Requirement already satisfied: tensorboard-data-server<0.8.0,>=0.7.0 in /usr/local/lib/python3.10/dist-packages (from tensorboard<2.16,>=2.15->tensorflow) (0.7.2)\n",
            "Requirement already satisfied: werkzeug>=1.0.1 in /usr/local/lib/python3.10/dist-packages (from tensorboard<2.16,>=2.15->tensorflow) (3.0.1)\n",
            "Requirement already satisfied: cachetools<6.0,>=2.0.0 in /usr/local/lib/python3.10/dist-packages (from google-auth<3,>=1.6.3->tensorboard<2.16,>=2.15->tensorflow) (5.3.3)\n",
            "Requirement already satisfied: pyasn1-modules>=0.2.1 in /usr/local/lib/python3.10/dist-packages (from google-auth<3,>=1.6.3->tensorboard<2.16,>=2.15->tensorflow) (0.3.0)\n",
            "Requirement already satisfied: rsa<5,>=3.1.4 in /usr/local/lib/python3.10/dist-packages (from google-auth<3,>=1.6.3->tensorboard<2.16,>=2.15->tensorflow) (4.9)\n",
            "Requirement already satisfied: requests-oauthlib>=0.7.0 in /usr/local/lib/python3.10/dist-packages (from google-auth-oauthlib<2,>=0.5->tensorboard<2.16,>=2.15->tensorflow) (1.3.1)\n",
            "Requirement already satisfied: charset-normalizer<4,>=2 in /usr/local/lib/python3.10/dist-packages (from requests<3,>=2.21.0->tensorboard<2.16,>=2.15->tensorflow) (3.3.2)\n",
            "Requirement already satisfied: idna<4,>=2.5 in /usr/local/lib/python3.10/dist-packages (from requests<3,>=2.21.0->tensorboard<2.16,>=2.15->tensorflow) (3.6)\n",
            "Requirement already satisfied: urllib3<3,>=1.21.1 in /usr/local/lib/python3.10/dist-packages (from requests<3,>=2.21.0->tensorboard<2.16,>=2.15->tensorflow) (2.0.7)\n",
            "Requirement already satisfied: certifi>=2017.4.17 in /usr/local/lib/python3.10/dist-packages (from requests<3,>=2.21.0->tensorboard<2.16,>=2.15->tensorflow) (2024.2.2)\n",
            "Requirement already satisfied: MarkupSafe>=2.1.1 in /usr/local/lib/python3.10/dist-packages (from werkzeug>=1.0.1->tensorboard<2.16,>=2.15->tensorflow) (2.1.5)\n",
            "Requirement already satisfied: pyasn1<0.6.0,>=0.4.6 in /usr/local/lib/python3.10/dist-packages (from pyasn1-modules>=0.2.1->google-auth<3,>=1.6.3->tensorboard<2.16,>=2.15->tensorflow) (0.5.1)\n",
            "Requirement already satisfied: oauthlib>=3.0.0 in /usr/local/lib/python3.10/dist-packages (from requests-oauthlib>=0.7.0->google-auth-oauthlib<2,>=0.5->tensorboard<2.16,>=2.15->tensorflow) (3.2.2)\n"
          ]
        }
      ],
      "source": [
        "######CNN\n",
        "!pip install tensorflow"
      ]
    },
    {
      "cell_type": "code",
      "source": [
        "import numpy as np\n",
        "from keras.models import Sequential\n",
        "from keras.layers import SimpleRNN,Dense,Embedding\n",
        "from keras.preprocessing.text import Tokenizer\n",
        "from keras.preprocessing.sequence import pad_sequences\n",
        "from keras.utils import to_categorical"
      ],
      "metadata": {
        "id": "QhFCeXKuVFyq"
      },
      "execution_count": 3,
      "outputs": []
    },
    {
      "cell_type": "code",
      "source": [
        "#generating some example sequential data\n",
        "sentences = ['I like Python','I like learning','I hate school','Recurrent Neural Networks are powerful']#11 unique words"
      ],
      "metadata": {
        "id": "k6-EZEcDW42O"
      },
      "execution_count": 4,
      "outputs": []
    },
    {
      "cell_type": "code",
      "source": [
        "#Tokenizing the words\n",
        "tokenizer = Tokenizer()\n",
        "tokenizer.fit_on_texts(sentences)#to apply a tokenizer function.\n",
        "total_words = len(tokenizer.word_index)+1\n",
        "print(total_words)"
      ],
      "metadata": {
        "colab": {
          "base_uri": "https://localhost:8080/"
        },
        "id": "tlR87T4hXbQ3",
        "outputId": "911fc1ba-37d4-4a76-a296-8f54cd908aad"
      },
      "execution_count": 5,
      "outputs": [
        {
          "output_type": "stream",
          "name": "stdout",
          "text": [
            "12\n"
          ]
        }
      ]
    },
    {
      "cell_type": "code",
      "source": [
        "# Creating input sequences and their corresponding next words\n",
        "input_sequences = []\n",
        "for sentence in sentences:\n",
        "    tokenized_sentence = tokenizer.texts_to_sequences([sentence])[0]\n",
        "    for i in range(1, len(tokenized_sentence)):\n",
        "        n_gram_sequence = tokenized_sentence[:i+1]\n",
        "        input_sequences.append(n_gram_sequence)\n",
        "input_sequences"
      ],
      "metadata": {
        "colab": {
          "base_uri": "https://localhost:8080/"
        },
        "id": "0pX0ny_eZs0S",
        "outputId": "1f48ac5b-98bb-4373-e0c5-704d58541ae4"
      },
      "execution_count": 6,
      "outputs": [
        {
          "output_type": "execute_result",
          "data": {
            "text/plain": [
              "[[1, 2],\n",
              " [1, 2, 3],\n",
              " [1, 2],\n",
              " [1, 2, 4],\n",
              " [1, 5],\n",
              " [1, 5, 6],\n",
              " [7, 8],\n",
              " [7, 8, 9],\n",
              " [7, 8, 9, 10],\n",
              " [7, 8, 9, 10, 11]]"
            ]
          },
          "metadata": {},
          "execution_count": 6
        }
      ]
    },
    {
      "cell_type": "code",
      "source": [
        "# Padding sequences for consistent input size\n",
        "max_sequence_length = max([len(seq) for seq in input_sequences])\n",
        "input_sequences = pad_sequences(input_sequences, maxlen=max_sequence_length, padding='pre')\n",
        "#padding pre adds spaces before\n",
        "#maximun lenght sequences i.e 5 in above output"
      ],
      "metadata": {
        "id": "KbMtmYn0Z4TE"
      },
      "execution_count": 7,
      "outputs": []
    },
    {
      "cell_type": "code",
      "source": [
        "input_sequences"
      ],
      "metadata": {
        "colab": {
          "base_uri": "https://localhost:8080/"
        },
        "id": "8-FonaDwagX2",
        "outputId": "6911c1f0-c1c8-45fe-cc52-35781214d0a4"
      },
      "execution_count": 8,
      "outputs": [
        {
          "output_type": "execute_result",
          "data": {
            "text/plain": [
              "array([[ 0,  0,  0,  1,  2],\n",
              "       [ 0,  0,  1,  2,  3],\n",
              "       [ 0,  0,  0,  1,  2],\n",
              "       [ 0,  0,  1,  2,  4],\n",
              "       [ 0,  0,  0,  1,  5],\n",
              "       [ 0,  0,  1,  5,  6],\n",
              "       [ 0,  0,  0,  7,  8],\n",
              "       [ 0,  0,  7,  8,  9],\n",
              "       [ 0,  7,  8,  9, 10],\n",
              "       [ 7,  8,  9, 10, 11]], dtype=int32)"
            ]
          },
          "metadata": {},
          "execution_count": 8
        }
      ]
    },
    {
      "cell_type": "code",
      "source": [
        "#softmax is another activation function for RNN\n",
        "# Creating input and output data\n",
        "x, y = input_sequences[:, :-1], input_sequences[:, -1]\n",
        "y = to_categorical(y, num_classes=total_words)"
      ],
      "metadata": {
        "id": "HoDPrwFMaw-U"
      },
      "execution_count": 9,
      "outputs": []
    },
    {
      "cell_type": "code",
      "source": [
        "# Building a simple RNN model\n",
        "model = Sequential()\n",
        "model.add(Embedding(input_dim=total_words, output_dim=50, input_length=max_sequence_length-1))\n",
        "model.add(SimpleRNN(100, return_sequences=True))\n",
        "model.add(SimpleRNN(100))\n",
        "model.add(Dense(total_words, activation='softmax'))"
      ],
      "metadata": {
        "id": "el3QwOGSbVWe"
      },
      "execution_count": 10,
      "outputs": []
    },
    {
      "cell_type": "code",
      "source": [
        "#compiling the model\n",
        "model.compile(optimizer='adam',loss='categorical_crossentropy',metrics=['accuracy'])\n"
      ],
      "metadata": {
        "id": "mFASk3DGbZfa"
      },
      "execution_count": 11,
      "outputs": []
    },
    {
      "cell_type": "code",
      "source": [
        "#Training the model\n",
        "model.fit(x,y,epochs=50,verbose=2)"
      ],
      "metadata": {
        "colab": {
          "base_uri": "https://localhost:8080/"
        },
        "id": "l78-POenb83i",
        "outputId": "cd9112a0-3eba-4219-85ae-d58192dcef82"
      },
      "execution_count": 12,
      "outputs": [
        {
          "output_type": "stream",
          "name": "stdout",
          "text": [
            "Epoch 1/50\n",
            "1/1 - 3s - loss: 2.5417 - accuracy: 0.0000e+00 - 3s/epoch - 3s/step\n",
            "Epoch 2/50\n",
            "1/1 - 0s - loss: 2.4546 - accuracy: 0.2000 - 19ms/epoch - 19ms/step\n",
            "Epoch 3/50\n",
            "1/1 - 0s - loss: 2.3752 - accuracy: 0.2000 - 14ms/epoch - 14ms/step\n",
            "Epoch 4/50\n",
            "1/1 - 0s - loss: 2.2999 - accuracy: 0.2000 - 18ms/epoch - 18ms/step\n",
            "Epoch 5/50\n",
            "1/1 - 0s - loss: 2.2269 - accuracy: 0.3000 - 17ms/epoch - 17ms/step\n",
            "Epoch 6/50\n",
            "1/1 - 0s - loss: 2.1557 - accuracy: 0.3000 - 15ms/epoch - 15ms/step\n",
            "Epoch 7/50\n",
            "1/1 - 0s - loss: 2.0866 - accuracy: 0.3000 - 21ms/epoch - 21ms/step\n",
            "Epoch 8/50\n",
            "1/1 - 0s - loss: 2.0193 - accuracy: 0.3000 - 18ms/epoch - 18ms/step\n",
            "Epoch 9/50\n",
            "1/1 - 0s - loss: 1.9525 - accuracy: 0.3000 - 18ms/epoch - 18ms/step\n",
            "Epoch 10/50\n",
            "1/1 - 0s - loss: 1.8841 - accuracy: 0.3000 - 18ms/epoch - 18ms/step\n",
            "Epoch 11/50\n",
            "1/1 - 0s - loss: 1.8132 - accuracy: 0.3000 - 17ms/epoch - 17ms/step\n",
            "Epoch 12/50\n",
            "1/1 - 0s - loss: 1.7411 - accuracy: 0.4000 - 17ms/epoch - 17ms/step\n",
            "Epoch 13/50\n",
            "1/1 - 0s - loss: 1.6704 - accuracy: 0.4000 - 18ms/epoch - 18ms/step\n",
            "Epoch 14/50\n",
            "1/1 - 0s - loss: 1.6030 - accuracy: 0.7000 - 18ms/epoch - 18ms/step\n",
            "Epoch 15/50\n",
            "1/1 - 0s - loss: 1.5387 - accuracy: 0.7000 - 18ms/epoch - 18ms/step\n",
            "Epoch 16/50\n",
            "1/1 - 0s - loss: 1.4761 - accuracy: 0.7000 - 16ms/epoch - 16ms/step\n",
            "Epoch 17/50\n",
            "1/1 - 0s - loss: 1.4145 - accuracy: 0.7000 - 21ms/epoch - 21ms/step\n",
            "Epoch 18/50\n",
            "1/1 - 0s - loss: 1.3542 - accuracy: 0.7000 - 18ms/epoch - 18ms/step\n",
            "Epoch 19/50\n",
            "1/1 - 0s - loss: 1.2962 - accuracy: 0.7000 - 19ms/epoch - 19ms/step\n",
            "Epoch 20/50\n",
            "1/1 - 0s - loss: 1.2409 - accuracy: 0.7000 - 20ms/epoch - 20ms/step\n",
            "Epoch 21/50\n",
            "1/1 - 0s - loss: 1.1874 - accuracy: 0.7000 - 20ms/epoch - 20ms/step\n",
            "Epoch 22/50\n",
            "1/1 - 0s - loss: 1.1352 - accuracy: 0.7000 - 20ms/epoch - 20ms/step\n",
            "Epoch 23/50\n",
            "1/1 - 0s - loss: 1.0850 - accuracy: 0.7000 - 20ms/epoch - 20ms/step\n",
            "Epoch 24/50\n",
            "1/1 - 0s - loss: 1.0371 - accuracy: 0.7000 - 16ms/epoch - 16ms/step\n",
            "Epoch 25/50\n",
            "1/1 - 0s - loss: 0.9909 - accuracy: 0.7000 - 18ms/epoch - 18ms/step\n",
            "Epoch 26/50\n",
            "1/1 - 0s - loss: 0.9455 - accuracy: 0.7000 - 19ms/epoch - 19ms/step\n",
            "Epoch 27/50\n",
            "1/1 - 0s - loss: 0.9013 - accuracy: 0.7000 - 19ms/epoch - 19ms/step\n",
            "Epoch 28/50\n",
            "1/1 - 0s - loss: 0.8594 - accuracy: 0.7000 - 16ms/epoch - 16ms/step\n",
            "Epoch 29/50\n",
            "1/1 - 0s - loss: 0.8204 - accuracy: 0.7000 - 20ms/epoch - 20ms/step\n",
            "Epoch 30/50\n",
            "1/1 - 0s - loss: 0.7841 - accuracy: 0.8000 - 21ms/epoch - 21ms/step\n",
            "Epoch 31/50\n",
            "1/1 - 0s - loss: 0.7504 - accuracy: 0.8000 - 16ms/epoch - 16ms/step\n",
            "Epoch 32/50\n",
            "1/1 - 0s - loss: 0.7199 - accuracy: 0.8000 - 15ms/epoch - 15ms/step\n",
            "Epoch 33/50\n",
            "1/1 - 0s - loss: 0.6926 - accuracy: 0.8000 - 14ms/epoch - 14ms/step\n",
            "Epoch 34/50\n",
            "1/1 - 0s - loss: 0.6676 - accuracy: 0.8000 - 13ms/epoch - 13ms/step\n",
            "Epoch 35/50\n",
            "1/1 - 0s - loss: 0.6442 - accuracy: 0.8000 - 13ms/epoch - 13ms/step\n",
            "Epoch 36/50\n",
            "1/1 - 0s - loss: 0.6221 - accuracy: 0.8000 - 13ms/epoch - 13ms/step\n",
            "Epoch 37/50\n",
            "1/1 - 0s - loss: 0.6015 - accuracy: 0.8000 - 13ms/epoch - 13ms/step\n",
            "Epoch 38/50\n",
            "1/1 - 0s - loss: 0.5821 - accuracy: 0.8000 - 13ms/epoch - 13ms/step\n",
            "Epoch 39/50\n",
            "1/1 - 0s - loss: 0.5637 - accuracy: 0.8000 - 13ms/epoch - 13ms/step\n",
            "Epoch 40/50\n",
            "1/1 - 0s - loss: 0.5463 - accuracy: 0.8000 - 13ms/epoch - 13ms/step\n",
            "Epoch 41/50\n",
            "1/1 - 0s - loss: 0.5301 - accuracy: 0.8000 - 16ms/epoch - 16ms/step\n",
            "Epoch 42/50\n",
            "1/1 - 0s - loss: 0.5148 - accuracy: 0.8000 - 20ms/epoch - 20ms/step\n",
            "Epoch 43/50\n",
            "1/1 - 0s - loss: 0.5003 - accuracy: 0.8000 - 19ms/epoch - 19ms/step\n",
            "Epoch 44/50\n",
            "1/1 - 0s - loss: 0.4867 - accuracy: 0.8000 - 14ms/epoch - 14ms/step\n",
            "Epoch 45/50\n",
            "1/1 - 0s - loss: 0.4740 - accuracy: 0.8000 - 15ms/epoch - 15ms/step\n",
            "Epoch 46/50\n",
            "1/1 - 0s - loss: 0.4622 - accuracy: 0.8000 - 16ms/epoch - 16ms/step\n",
            "Epoch 47/50\n",
            "1/1 - 0s - loss: 0.4511 - accuracy: 0.8000 - 14ms/epoch - 14ms/step\n",
            "Epoch 48/50\n",
            "1/1 - 0s - loss: 0.4407 - accuracy: 0.8000 - 13ms/epoch - 13ms/step\n",
            "Epoch 49/50\n",
            "1/1 - 0s - loss: 0.4310 - accuracy: 0.8000 - 14ms/epoch - 14ms/step\n",
            "Epoch 50/50\n",
            "1/1 - 0s - loss: 0.4219 - accuracy: 0.8000 - 14ms/epoch - 14ms/step\n"
          ]
        },
        {
          "output_type": "execute_result",
          "data": {
            "text/plain": [
              "<keras.src.callbacks.History at 0x78f02de9f070>"
            ]
          },
          "metadata": {},
          "execution_count": 12
        }
      ]
    },
    {
      "cell_type": "code",
      "source": [
        "#Test:\n",
        "# Generating text using the trained model\n",
        "seed_text = input(\"Enter the starting word: \")\n",
        "next_words = int(input(\"Enter how many words to predict: \"))\n",
        "\n",
        "for _ in range(next_words):\n",
        "    tokenized_seed = tokenizer.texts_to_sequences([seed_text])[0]\n",
        "    tokenized_seed = pad_sequences([tokenized_seed], maxlen=max_sequence_length-1, padding='pre')\n",
        "    predicted_word_index = np.argmax(model.predict(tokenized_seed), axis=-1)\n",
        "    predicted_word = tokenizer.index_word[predicted_word_index[0]]\n",
        "    seed_text += \" \" + predicted_word\n",
        "\n",
        "print(seed_text)"
      ],
      "metadata": {
        "colab": {
          "base_uri": "https://localhost:8080/"
        },
        "id": "7cG3niXPdC2Q",
        "outputId": "5e7ff8eb-277a-4703-8889-c051af4ed530"
      },
      "execution_count": 13,
      "outputs": [
        {
          "output_type": "stream",
          "name": "stdout",
          "text": [
            "Enter the starting word: I\n",
            "Enter how many words to predict: 3\n",
            "1/1 [==============================] - 0s 273ms/step\n",
            "1/1 [==============================] - 0s 23ms/step\n",
            "1/1 [==============================] - 0s 21ms/step\n",
            "I like learning like\n"
          ]
        }
      ]
    }
  ]
}