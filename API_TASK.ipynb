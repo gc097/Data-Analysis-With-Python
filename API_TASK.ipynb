{
  "nbformat": 4,
  "nbformat_minor": 0,
  "metadata": {
    "colab": {
      "provenance": []
    },
    "kernelspec": {
      "name": "python3",
      "display_name": "Python 3"
    },
    "language_info": {
      "name": "python"
    }
  },
  "cells": [
    {
      "cell_type": "code",
      "source": [
        "#TRANSLATOR TASK\n",
        "import requests\n",
        "\n",
        "url = \"https://google-translate1.p.rapidapi.com/language/translate/v2\"\n",
        "text=input(\"Enter your text:\")\n",
        "target_lan=input(\"Enter the starting two letters of targetting language:\")\n",
        "source_lan=input(\"Enter the starting two letters of the source language:\")\n",
        "\n",
        "payload = {\n",
        "\t\"q\": \"Hello, world!\",\n",
        "\t\"target\": target_lan,\n",
        "\t\"source\": source_lan\n",
        "}\n",
        "headers = {\n",
        "\t\"content-type\": \"application/x-www-form-urlencoded\",\n",
        "\t\"Accept-Encoding\": \"application/gzip\",\n",
        "\t\"X-RapidAPI-Key\": \"3247cda975msh0fd5991a82c3633p16a98ejsn18d0685d2543\",\n",
        "\t\"X-RapidAPI-Host\": \"google-translate1.p.rapidapi.com\"\n",
        "}\n",
        "\n",
        "response = requests.post(url, data=payload, headers=headers)\n",
        "\n",
        "print(response.json())"
      ],
      "metadata": {
        "colab": {
          "base_uri": "https://localhost:8080/"
        },
        "id": "mcPCekm_Af93",
        "outputId": "8b29e18a-1233-45a1-95bd-ebf11e7e7644"
      },
      "execution_count": null,
      "outputs": [
        {
          "output_type": "stream",
          "name": "stdout",
          "text": [
            "Enter your text:How are you?\n",
            "Enter the starting two letters of targetting language:ja\n",
            "Enter the starting two letters of the source language:en\n",
            "{'data': {'translations': [{'translatedText': 'こんにちは世界！'}]}}\n"
          ]
        }
      ]
    },
    {
      "cell_type": "code",
      "execution_count": null,
      "metadata": {
        "colab": {
          "base_uri": "https://localhost:8080/"
        },
        "id": "gnO-YnckONgD",
        "outputId": "c835793a-1c3a-4c58-9b30-2abc3d024d7f"
      },
      "outputs": [
        {
          "output_type": "stream",
          "name": "stdout",
          "text": [
            "{'messages': 'The API is unreachable, please contact the API provider', 'info': 'Your Client (working) ---> Gateway (working) ---> API (not working)'}\n"
          ]
        }
      ],
      "source": [
        "import requests\n",
        "\n",
        "url = \"https://myallies-breaking-news-v1.p.rapidapi.com/GetCompanyDetailsBySymbol\"\n",
        "\n",
        "querystring = {\"symbol\":\"twtr\"}\n",
        "\n",
        "headers = {\n",
        "\t\"X-RapidAPI-Key\": \"3247cda975msh0fd5991a82c3633p16a98ejsn18d0685d2543\",\n",
        "\t\"X-RapidAPI-Host\": \"myallies-breaking-news-v1.p.rapidapi.com\"\n",
        "}\n",
        "\n",
        "response = requests.get(url, headers=headers, params=querystring)\n",
        "\n",
        "print(response.json())"
      ]
    },
    {
      "cell_type": "code",
      "source": [
        "import requests\n",
        "\n",
        "url = \"https://piratespeak.p.rapidapi.com/pirate.json\"\n",
        "\n",
        "querystring = {\"text\":\"Hello sir! my mother goes with me to the ocean.\"}\n",
        "\n",
        "headers = {\n",
        "\t\"X-RapidAPI-Key\": \"3247cda975msh0fd5991a82c3633p16a98ejsn18d0685d2543\",\n",
        "\t\"X-RapidAPI-Host\": \"piratespeak.p.rapidapi.com\"\n",
        "}\n",
        "\n",
        "response = requests.post(url, headers=headers, params=querystring)\n",
        "\n",
        "print(response.json())"
      ],
      "metadata": {
        "colab": {
          "base_uri": "https://localhost:8080/"
        },
        "id": "FeUQzyZVTuG_",
        "outputId": "f064656f-2edb-4d4c-9f2b-c32711d34aed"
      },
      "execution_count": null,
      "outputs": [
        {
          "output_type": "stream",
          "name": "stdout",
          "text": [
            "{'message': 'You are not subscribed to this API.'}\n"
          ]
        }
      ]
    },
    {
      "cell_type": "code",
      "source": [
        "import requests\n",
        "\n",
        "url = \"https://vanitysoft-boundaries-io-v1.p.rapidapi.com/reaperfire/rest/v1/public/boundary/zipcode/wkt\"\n",
        "\n",
        "payload = \"\\\"POLYGON((-104.0556 41.0037,-104.0584 44.9949,-111.0539 44.9998,-111.0457 40.9986,-104.0556 41.0006,-104.0556 41.0037))\\\"\"\n",
        "headers = {\n",
        "\t\"content-type\": \"text/plain\",\n",
        "\t\"X-RapidAPI-Key\": \"3247cda975msh0fd5991a82c3633p16a98ejsn18d0685d2543\",\n",
        "\t\"X-RapidAPI-Host\": \"vanitysoft-boundaries-io-v1.p.rapidapi.com\"\n",
        "}\n",
        "\n",
        "response = requests.post(url, data=payload, headers=headers)\n",
        "\n",
        "print(response.json())"
      ],
      "metadata": {
        "colab": {
          "base_uri": "https://localhost:8080/"
        },
        "id": "fHwXFWNyUhAp",
        "outputId": "b5dc19e9-ebe0-4897-970e-00a1ca5be269"
      },
      "execution_count": null,
      "outputs": [
        {
          "output_type": "stream",
          "name": "stdout",
          "text": [
            "{'message': 'You are not subscribed to this API.'}\n"
          ]
        }
      ]
    },
    {
      "cell_type": "code",
      "source": [
        "import requests\n",
        "\n",
        "url = \"https://spoonacular-recipe-food-nutrition-v1.p.rapidapi.com/recipes/complexSearch\"\n",
        "\n",
        "querystring = {\"query\":\"pasta\",\"cuisine\":\"italian\",\"excludeCuisine\":\"greek\",\"diet\":\"vegetarian\",\"intolerances\":\"gluten\",\"equipment\":\"pan\",\"includeIngredients\":\"tomato,cheese\",\"excludeIngredients\":\"eggs\",\"type\":\"main course\",\"instructionsRequired\":\"true\",\"fillIngredients\":\"false\",\"addRecipeInformation\":\"false\",\"titleMatch\":\"Crock Pot\",\"maxReadyTime\":\"20\",\"ignorePantry\":\"true\",\"sort\":\"calories\",\"sortDirection\":\"asc\",\"minCarbs\":\"10\",\"maxCarbs\":\"100\",\"minProtein\":\"10\",\"maxProtein\":\"100\",\"minCalories\":\"50\",\"maxCalories\":\"800\",\"minFat\":\"10\",\"maxFat\":\"100\",\"minAlcohol\":\"0\",\"maxAlcohol\":\"100\",\"minCaffeine\":\"0\",\"maxCaffeine\":\"100\",\"minCopper\":\"0\",\"maxCopper\":\"100\",\"minCalcium\":\"0\",\"maxCalcium\":\"100\",\"minCholine\":\"0\",\"maxCholine\":\"100\",\"minCholesterol\":\"0\",\"maxCholesterol\":\"100\",\"minFluoride\":\"0\",\"maxFluoride\":\"100\",\"minSaturatedFat\":\"0\",\"maxSaturatedFat\":\"100\",\"minVitaminA\":\"0\",\"maxVitaminA\":\"100\",\"minVitaminC\":\"0\",\"maxVitaminC\":\"100\",\"minVitaminD\":\"0\",\"maxVitaminD\":\"100\",\"minVitaminE\":\"0\",\"maxVitaminE\":\"100\",\"minVitaminK\":\"0\",\"maxVitaminK\":\"100\",\"minVitaminB1\":\"0\",\"maxVitaminB1\":\"100\",\"minVitaminB2\":\"0\",\"maxVitaminB2\":\"100\",\"minVitaminB5\":\"0\",\"maxVitaminB5\":\"100\",\"minVitaminB3\":\"0\",\"maxVitaminB3\":\"100\",\"minVitaminB6\":\"0\",\"maxVitaminB6\":\"100\",\"minVitaminB12\":\"0\",\"maxVitaminB12\":\"100\",\"minFiber\":\"0\",\"maxFiber\":\"100\",\"minFolate\":\"0\",\"maxFolate\":\"100\",\"minFolicAcid\":\"0\",\"maxFolicAcid\":\"100\",\"minIodine\":\"0\",\"maxIodine\":\"100\",\"minIron\":\"0\",\"maxIron\":\"100\",\"minMagnesium\":\"0\",\"maxMagnesium\":\"100\",\"minManganese\":\"0\",\"maxManganese\":\"100\",\"minPhosphorus\":\"0\",\"maxPhosphorus\":\"100\",\"minPotassium\":\"0\",\"maxPotassium\":\"100\",\"minSelenium\":\"0\",\"maxSelenium\":\"100\",\"minSodium\":\"0\",\"maxSodium\":\"100\",\"minSugar\":\"0\",\"maxSugar\":\"100\",\"minZinc\":\"0\",\"maxZinc\":\"100\",\"offset\":\"0\",\"number\":\"10\",\"limitLicense\":\"false\",\"ranking\":\"2\"}\n",
        "\n",
        "headers = {\n",
        "\t\"X-RapidAPI-Key\": \"3247cda975msh0fd5991a82c3633p16a98ejsn18d0685d2543\",\n",
        "\t\"X-RapidAPI-Host\": \"spoonacular-recipe-food-nutrition-v1.p.rapidapi.com\"\n",
        "}\n",
        "\n",
        "response = requests.get(url, headers=headers, params=querystring)\n",
        "\n",
        "print(response.json())"
      ],
      "metadata": {
        "colab": {
          "base_uri": "https://localhost:8080/"
        },
        "id": "yc2Q_-PdU4ug",
        "outputId": "5f5ee07a-50d6-40e0-8e68-9fc8bade0628"
      },
      "execution_count": null,
      "outputs": [
        {
          "output_type": "stream",
          "name": "stdout",
          "text": [
            "{'message': 'You are not subscribed to this API.'}\n"
          ]
        }
      ]
    },
    {
      "cell_type": "code",
      "source": [
        "from requests import Request, Session\n",
        "from requests.exceptions import ConnectionError, Timeout, TooManyRedirects\n",
        "import json\n",
        "\n",
        "url = 'https://sandbox-api.coinmarketcap.com/v1/cryptocurrency/listings/latest'\n",
        "parameters = {\n",
        "  'start':'1',\n",
        "  'limit':'5000',\n",
        "  'convert':'USD'\n",
        "}\n",
        "headers = {\n",
        "  'Accepts': 'application/json',\n",
        "  'X-CMC_PRO_API_KEY': 'from requests import Request, Session'\n",
        "from requests.exceptions import ConnectionError, Timeout, TooManyRedirects\n",
        "import json\n",
        "\n",
        "url = 'https://sandbox-api.coinmarketcap.com/v1/cryptocurrency/listings/latest'\n",
        "parameters = {\n",
        "  'start':'1',\n",
        "  'limit':'5000',\n",
        "  'convert':'USD'\n",
        "}\n",
        "headers = {\n",
        "  'Accepts': 'application/json',\n",
        "  'X-CMC_PRO_API_KEY': 'b54bcf4d-1bca-4e8e-9a24-22ff2c3d462c',\n",
        "}\n",
        "\n",
        "session = Session()\n",
        "session.headers.update(headers)\n",
        "\n",
        "try:\n",
        "  response = session.get(url, params=parameters)\n",
        "  data = json.loads(response.text)\n",
        "  print(data)\n",
        "except (ConnectionError, Timeout, TooManyRedirects) as e:\n",
        "  print(e)\n",
        "}\n",
        "\n",
        "session = Session()\n",
        "session.headers.update(headers)\n",
        "\n",
        "try:\n",
        "  response = session.get(url, params=parameters)\n",
        "  data = json.loads(response.text)\n",
        "  print(data)\n",
        "except (ConnectionError, Timeout, TooManyRedirects) as e:\n",
        "  print(e)"
      ],
      "metadata": {
        "colab": {
          "base_uri": "https://localhost:8080/",
          "height": 109
        },
        "id": "TRiqpCi-ZluZ",
        "outputId": "ea29c509-ffdf-46cd-84b3-1205ee09d2ac"
      },
      "execution_count": null,
      "outputs": [
        {
          "output_type": "error",
          "ename": "SyntaxError",
          "evalue": "invalid syntax (<ipython-input-7-348f916d4493>, line 14)",
          "traceback": [
            "\u001b[0;36m  File \u001b[0;32m\"<ipython-input-7-348f916d4493>\"\u001b[0;36m, line \u001b[0;32m14\u001b[0m\n\u001b[0;31m    from requests.exceptions import ConnectionError, Timeout, TooManyRedirects\u001b[0m\n\u001b[0m    ^\u001b[0m\n\u001b[0;31mSyntaxError\u001b[0m\u001b[0;31m:\u001b[0m invalid syntax\n"
          ]
        }
      ]
    },
    {
      "cell_type": "code",
      "source": [
        "import requests\n",
        "api_key='b54bcf4d-1bca-4e8e-9a24-22ff2c3d462c'\n",
        "\n",
        "url=\"https://sandbox-api.coinmarketcap.com/v1/cryptocurrency/listings/latest\"#{} - customization\n",
        "response=requests.get(url)\n",
        "data=response.json()\n",
        "print(data)"
      ],
      "metadata": {
        "colab": {
          "base_uri": "https://localhost:8080/"
        },
        "id": "lhEW_utKZ1rC",
        "outputId": "0c4f0e8f-a798-4f02-d7ff-26e4592882c0"
      },
      "execution_count": null,
      "outputs": [
        {
          "output_type": "stream",
          "name": "stdout",
          "text": [
            "{'status': {'timestamp': '2024-02-28T15:48:50.377Z', 'error_code': 1002, 'error_message': 'API key missing.', 'elapsed': 0, 'credit_count': 0}}\n"
          ]
        }
      ]
    },
    {
      "cell_type": "code",
      "source": [
        "import requests\n",
        "import json\n",
        "url = 'https://sandbox-api.coinmarketcap.com/v1/cryptocurrency/listings/latest'\n",
        "parameters = {\n",
        "  'start':'1',\n",
        "  'limit':'5000',\n",
        "  'convert':'USD'\n",
        "}\n",
        "headers = {\n",
        "  'Accepts': 'application/json',\n",
        "  'X-CMC_PRO_API_KEY': 'b54bcf4d-1bca-4e8e-9a24-22ff2c3d462c',\n",
        "}\n",
        "session = Session()\n",
        "session.headers.update(headers)\n",
        "\n",
        "\n",
        "response = session.get(url, params=parameters)\n",
        "data = json.loads(response.text)\n",
        "print(data)\n"
      ],
      "metadata": {
        "colab": {
          "base_uri": "https://localhost:8080/"
        },
        "id": "IfmnaGWoaZS6",
        "outputId": "6c1e72fe-f2b5-44a2-c706-cb898c3e3d17"
      },
      "execution_count": null,
      "outputs": [
        {
          "output_type": "stream",
          "name": "stdout",
          "text": [
            "{'status': {'timestamp': '2024-02-28T15:55:52.262Z', 'error_code': 0, 'error_message': None, 'elapsed': 1, 'credit_count': 1, 'notice': None}, 'data': [{'id': 287, 'name': '8cmrxrcfkm5', 'symbol': 'q0opa95kfto', 'slug': 'lgu0akmps2', 'cmc_rank': 7772, 'num_market_pairs': 2062, 'circulating_supply': 592, 'total_supply': 5181, 'max_supply': 5241, 'infinite_supply': None, 'last_updated': '2024-02-28T15:55:52.261Z', 'date_added': '2024-02-28T15:55:52.261Z', 'tags': ['jhjoz6xtp6', 'g729kutiatl', 'wnb1sk2qtml', '0kv3tl681h3h', 'xh5l0eh5ppe', 't85x7hw4ovi', 'y8j1zk1eqj', 'ix83b75alxj', 'c04wah86hj', '9cwsl35wgnp'], 'platform': None, 'self_reported_circulating_supply': None, 'self_reported_market_cap': None, 'quote': {'USD': {'price': 0.9860153103866429, 'volume_24h': 9170, 'volume_change_24h': 0.40845078146964586, 'percent_change_1h': 0.5642230595182216, 'percent_change_24h': 0.1418999269138168, 'percent_change_7d': 0.13706762679412532, 'market_cap': 0.15740241811514988, 'market_cap_dominance': 4765, 'fully_diluted_market_cap': 0.8817686662283755, 'last_updated': '2024-02-28T15:55:52.261Z'}}}, {'id': 2789, 'name': 'k6c4uxlcilk', 'symbol': 'krmjp4xg3r', 'slug': 'lx3lyeoyo3d', 'cmc_rank': 7575, 'num_market_pairs': 2068, 'circulating_supply': 552, 'total_supply': 5659, 'max_supply': 5275, 'infinite_supply': None, 'last_updated': '2024-02-28T15:55:52.261Z', 'date_added': '2024-02-28T15:55:52.261Z', 'tags': ['9z3hkcrhbbj', 'bvowhhvzlm', 'kez0u0djs0r', '2gknmx0ny41', 'vsf3bnfk5x', 'uw5nqhkbamc', 'svm5fcv1lwp', 'sfy9wubi7cs', 'yi3c6w69pfn', 's770bypbj4a'], 'platform': None, 'self_reported_circulating_supply': None, 'self_reported_market_cap': None, 'quote': {'USD': {'price': 0.4790393446747483, 'volume_24h': 7834, 'volume_change_24h': 0.5109422434489319, 'percent_change_1h': 0.13889985243049274, 'percent_change_24h': 0.9431263581846474, 'percent_change_7d': 0.032152635403722485, 'market_cap': 0.0244891639141136, 'market_cap_dominance': 8277, 'fully_diluted_market_cap': 0.5077047740827825, 'last_updated': '2024-02-28T15:55:52.261Z'}}}, {'id': 9133, 'name': 'l5li3h5dsyd', 'symbol': 'j2n1viob57', 'slug': 'j3mefmo54q', 'cmc_rank': 4370, 'num_market_pairs': 3644, 'circulating_supply': 4534, 'total_supply': 9508, 'max_supply': 8511, 'infinite_supply': None, 'last_updated': '2024-02-28T15:55:52.261Z', 'date_added': '2024-02-28T15:55:52.261Z', 'tags': ['6xp6tc44j9y', 'mgzgt5pqwgg', 'kjvkqvw6c6o', 'mdnd5kk79zq', '67hkpdl19wm', '3i1ad47k8ek', '6na3zgpg5a9', 'zqh5u4yblk', '0skex93frgc', '8k9jyf16n94'], 'platform': None, 'self_reported_circulating_supply': None, 'self_reported_market_cap': None, 'quote': {'USD': {'price': 0.36217288950779114, 'volume_24h': 4710, 'volume_change_24h': 0.6275143048402894, 'percent_change_1h': 0.42927345159872043, 'percent_change_24h': 0.5185994252143635, 'percent_change_7d': 0.8995962214789253, 'market_cap': 0.059090188547366695, 'market_cap_dominance': 1018, 'fully_diluted_market_cap': 0.14199211516424115, 'last_updated': '2024-02-28T15:55:52.261Z'}}}, {'id': 6962, 'name': 'bfron17su5', 'symbol': 'mjvke95mbah', 'slug': 'gpem750n9id', 'cmc_rank': 6845, 'num_market_pairs': 7987, 'circulating_supply': 5655, 'total_supply': 2791, 'max_supply': 9711, 'infinite_supply': None, 'last_updated': '2024-02-28T15:55:52.261Z', 'date_added': '2024-02-28T15:55:52.261Z', 'tags': ['vzj8i3m7xhg', 'kri2cn1tv4', '2hpagchqay', 'invua0v5coq', 'vxg8h6msdsp', 'qxqvh3hrw1k', 'x2o26dpljb', 'h9j1cc1n02', 'ay95v503hhv', '2ch5wv96rd'], 'platform': None, 'self_reported_circulating_supply': None, 'self_reported_market_cap': None, 'quote': {'USD': {'price': 0.2716343518235744, 'volume_24h': 3222, 'volume_change_24h': 0.18384673860493894, 'percent_change_1h': 0.741143197210528, 'percent_change_24h': 0.04075903853752805, 'percent_change_7d': 0.5488883533235562, 'market_cap': 0.6684999679242642, 'market_cap_dominance': 5866, 'fully_diluted_market_cap': 0.3906433996978873, 'last_updated': '2024-02-28T15:55:52.261Z'}}}, {'id': 2388, 'name': 'tz42imuydp', 'symbol': 'zetnntj9qd', 'slug': 'kqj3df2xe0l', 'cmc_rank': 1973, 'num_market_pairs': 5798, 'circulating_supply': 8859, 'total_supply': 149, 'max_supply': 5033, 'infinite_supply': None, 'last_updated': '2024-02-28T15:55:52.261Z', 'date_added': '2024-02-28T15:55:52.261Z', 'tags': ['pw8hpzo2wa', 'lc3ghg8zucd', '486nahkp4y5', 'clmbtyk5zf9', '6u9zhey460y', 'rc4z2r9amh', 'el6u025atj6', 'i6y4l1n52ds', 'nhndym8zzts', 'fksadfnlba'], 'platform': None, 'self_reported_circulating_supply': None, 'self_reported_market_cap': None, 'quote': {'USD': {'price': 0.7290536702719097, 'volume_24h': 1400, 'volume_change_24h': 0.7456952517702145, 'percent_change_1h': 0.8310340985422009, 'percent_change_24h': 0.29788889274825814, 'percent_change_7d': 0.6769222271220687, 'market_cap': 0.4004232322529866, 'market_cap_dominance': 1717, 'fully_diluted_market_cap': 0.04127207765362284, 'last_updated': '2024-02-28T15:55:52.261Z'}}}, {'id': 2175, 'name': 'obppy1tdpp', 'symbol': 'fkyjk8twtt5', 'slug': 'entk9intsls', 'cmc_rank': 6249, 'num_market_pairs': 2974, 'circulating_supply': 7161, 'total_supply': 9921, 'max_supply': 4075, 'infinite_supply': None, 'last_updated': '2024-02-28T15:55:52.261Z', 'date_added': '2024-02-28T15:55:52.261Z', 'tags': ['o28jpdznu9a', 'o9i0smdb12d', 'guzkc7s0cus', 'uq6vcob5phq', 'xr44n281dw', 'ykwqakk7r5', 'cz5hipwsalk', 'unbjn5bvzo', 'xezjx7hlkvd', '37v2zke0dsn'], 'platform': None, 'self_reported_circulating_supply': None, 'self_reported_market_cap': None, 'quote': {'USD': {'price': 0.8643237529438001, 'volume_24h': 2483, 'volume_change_24h': 0.53103141730179, 'percent_change_1h': 0.4806574301091666, 'percent_change_24h': 0.4972942488732468, 'percent_change_7d': 0.1495294729345671, 'market_cap': 0.11199286842475864, 'market_cap_dominance': 9965, 'fully_diluted_market_cap': 0.9738607532321084, 'last_updated': '2024-02-28T15:55:52.261Z'}}}, {'id': 292, 'name': '9y73h2if4au', 'symbol': '64755j7oyuh', 'slug': 'xlkzdtxd3od', 'cmc_rank': 6340, 'num_market_pairs': 5292, 'circulating_supply': 8546, 'total_supply': 7163, 'max_supply': 8643, 'infinite_supply': None, 'last_updated': '2024-02-28T15:55:52.261Z', 'date_added': '2024-02-28T15:55:52.261Z', 'tags': ['1xc1fg3zn6n', '0gif3mtw6fq9', 'u8qt0ox2oz', 'qtwzzocv0y', '41kb9lse1w4', '6s4fcsyrmo7', '0bbhkyanwq0b', 'ot9z13awg8c', 'ux5qti40nen', 'yt7ns16gz7'], 'platform': None, 'self_reported_circulating_supply': None, 'self_reported_market_cap': None, 'quote': {'USD': {'price': 0.31735318774084287, 'volume_24h': 9436, 'volume_change_24h': 0.5899260303405804, 'percent_change_1h': 0.29283144157483276, 'percent_change_24h': 0.875056295629709, 'percent_change_7d': 0.6246685037015356, 'market_cap': 0.4627404257769414, 'market_cap_dominance': 113, 'fully_diluted_market_cap': 0.49110579918074104, 'last_updated': '2024-02-28T15:55:52.261Z'}}}, {'id': 9220, 'name': 'j9sz75exo3h', 'symbol': 'zfdgkoes1lh', 'slug': 'dhg6twpytt7', 'cmc_rank': 1469, 'num_market_pairs': 9777, 'circulating_supply': 2551, 'total_supply': 1118, 'max_supply': 4976, 'infinite_supply': None, 'last_updated': '2024-02-28T15:55:52.261Z', 'date_added': '2024-02-28T15:55:52.261Z', 'tags': ['8g9lfh757an', 'llftryj42h8', 'c5ucebt2g05', 'q3dflmrhfbb', 'ndq6u1lr2p', 'eboohjy0xkk', 'w8xz7qhjeoe', 'ptzy1qo249l', 'rma6w0oc62g', 'tr0n28vryvl'], 'platform': None, 'self_reported_circulating_supply': None, 'self_reported_market_cap': None, 'quote': {'USD': {'price': 0.27494636994965327, 'volume_24h': 7929, 'volume_change_24h': 0.3621430174269715, 'percent_change_1h': 0.3320059490903564, 'percent_change_24h': 0.9896776625259347, 'percent_change_7d': 0.6514046263909321, 'market_cap': 0.5824253328610889, 'market_cap_dominance': 8013, 'fully_diluted_market_cap': 0.42108383213089096, 'last_updated': '2024-02-28T15:55:52.261Z'}}}, {'id': 9638, 'name': 'a78vrjasgb9', 'symbol': '3vcblylt00v', 'slug': '43ov57k8wag', 'cmc_rank': 268, 'num_market_pairs': 9678, 'circulating_supply': 8698, 'total_supply': 247, 'max_supply': 427, 'infinite_supply': None, 'last_updated': '2024-02-28T15:55:52.261Z', 'date_added': '2024-02-28T15:55:52.261Z', 'tags': ['bwpaik2p9zk', 'b8higo89d4', '3pma45nuq3', '5yqj6qj322p', '3pv6wqtfgjs', 'pgo0f71xuv', 'vurfbcgh2hg', 'kalgotbpg8c', 'nxwzgftrgt8', 'kx45zjg5b48'], 'platform': None, 'self_reported_circulating_supply': None, 'self_reported_market_cap': None, 'quote': {'USD': {'price': 0.558954917632071, 'volume_24h': 9048, 'volume_change_24h': 0.8356834339716492, 'percent_change_1h': 0.5436496405760982, 'percent_change_24h': 0.8357878379571868, 'percent_change_7d': 0.11090114840503218, 'market_cap': 0.4758393393181721, 'market_cap_dominance': 7273, 'fully_diluted_market_cap': 0.6766783515241304, 'last_updated': '2024-02-28T15:55:52.261Z'}}}, {'id': 6980, 'name': '7qnk7k9nhzo', 'symbol': '8lpeulr6kjd', 'slug': 'y3gdedrls0f', 'cmc_rank': 8463, 'num_market_pairs': 9608, 'circulating_supply': 9180, 'total_supply': 6184, 'max_supply': 2704, 'infinite_supply': None, 'last_updated': '2024-02-28T15:55:52.261Z', 'date_added': '2024-02-28T15:55:52.261Z', 'tags': ['kzxt1e682bm', '58nir1xnpkg', 'jdtanqixgf7', 'tg923jfbnp', '0cim6138072k', 'aimbcy2roto', 'fvrasry4klt', '2h4iieioplz', '1onbxmup0o1', 'gesenr24y8k'], 'platform': None, 'self_reported_circulating_supply': None, 'self_reported_market_cap': None, 'quote': {'USD': {'price': 0.4105485781649889, 'volume_24h': 7693, 'volume_change_24h': 0.1622980257410256, 'percent_change_1h': 0.33267220497188155, 'percent_change_24h': 0.13248030715539372, 'percent_change_7d': 0.7286385066255165, 'market_cap': 0.4441987177515003, 'market_cap_dominance': 7738, 'fully_diluted_market_cap': 0.052838531397393806, 'last_updated': '2024-02-28T15:55:52.261Z'}}}]}\n"
          ]
        }
      ]
    },
    {
      "cell_type": "code",
      "source": [
        "type(data)"
      ],
      "metadata": {
        "colab": {
          "base_uri": "https://localhost:8080/"
        },
        "id": "AynycsSPcD-r",
        "outputId": "95d60bf7-4606-4d1a-ae53-cdd100b66fbf"
      },
      "execution_count": null,
      "outputs": [
        {
          "output_type": "execute_result",
          "data": {
            "text/plain": [
              "dict"
            ]
          },
          "metadata": {},
          "execution_count": 17
        }
      ]
    },
    {
      "cell_type": "code",
      "source": [
        "import requests\n",
        "api_key='3247cda975msh0fd5991a82c3633p16a98ejsn18d0685d2543'\n",
        "\n",
        "url=f\"https://myallies-breaking-news-v1.p.rapidapi.com/GetCompanyDetailsBySymbol\"#{} - customization\n",
        "response=requests.get(url)\n",
        "data=response.json()\n",
        "print(data)"
      ],
      "metadata": {
        "colab": {
          "base_uri": "https://localhost:8080/"
        },
        "id": "KTlK8Adq7nmu",
        "outputId": "9e171c43-0bc6-4312-90f1-f8c8e148b862"
      },
      "execution_count": null,
      "outputs": [
        {
          "output_type": "stream",
          "name": "stdout",
          "text": [
            "{'message': 'Invalid API key. Go to https://docs.rapidapi.com/docs/keys for more info.'}\n"
          ]
        }
      ]
    }
  ]
}