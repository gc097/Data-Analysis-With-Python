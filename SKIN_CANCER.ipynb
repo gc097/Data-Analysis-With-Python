{
 "cells": [
  {
   "cell_type": "code",
   "execution_count": 1,
   "id": "e05ae4a2",
   "metadata": {},
   "outputs": [
    {
     "name": "stdout",
     "output_type": "stream",
     "text": [
      "WARNING:tensorflow:From C:\\Users\\tanya\\AppData\\Roaming\\Python\\Python311\\site-packages\\keras\\src\\losses.py:2976: The name tf.losses.sparse_softmax_cross_entropy is deprecated. Please use tf.compat.v1.losses.sparse_softmax_cross_entropy instead.\n",
      "\n"
     ]
    }
   ],
   "source": [
    "import tensorflow as tf\n",
    "from tensorflow import keras#layers\n",
    "from tensorflow.keras import layers\n",
    "from tensorflow.keras.preprocessing.image import ImageDataGenerator"
   ]
  },
  {
   "cell_type": "code",
   "execution_count": 2,
   "id": "d112f576",
   "metadata": {},
   "outputs": [],
   "source": [
    "IMG_SIZE=224\n",
    "BATCH_SIZE=32"
   ]
  },
  {
   "cell_type": "code",
   "execution_count": 3,
   "id": "7860ae77",
   "metadata": {},
   "outputs": [],
   "source": [
    "train_datagen = ImageDataGenerator(\n",
    "    rescale= 1./255,\n",
    "    validation_split=0.2)"
   ]
  },
  {
   "cell_type": "code",
   "execution_count": 4,
   "id": "68b0ee61",
   "metadata": {},
   "outputs": [
    {
     "name": "stdout",
     "output_type": "stream",
     "text": [
      "Found 2110 images belonging to 2 classes.\n"
     ]
    }
   ],
   "source": [
    "train_generator = train_datagen.flow_from_directory(r'D:\\SKIN CANCER\\train',\n",
    "target_size=(IMG_SIZE,IMG_SIZE),\n",
    "batch_size=BATCH_SIZE,\n",
    "class_mode='binary',\n",
    "subset='training'\n",
    ")"
   ]
  },
  {
   "cell_type": "code",
   "execution_count": 5,
   "id": "41fbc415",
   "metadata": {},
   "outputs": [
    {
     "name": "stdout",
     "output_type": "stream",
     "text": [
      "Found 527 images belonging to 2 classes.\n"
     ]
    }
   ],
   "source": [
    "val_generator = train_datagen.flow_from_directory(r'D:\\SKIN CANCER\\train',\n",
    "target_size=(IMG_SIZE,IMG_SIZE),\n",
    "batch_size=BATCH_SIZE,\n",
    "class_mode='binary',\n",
    "subset='validation'\n",
    ")"
   ]
  },
  {
   "cell_type": "code",
   "execution_count": 7,
   "id": "6026adfd",
   "metadata": {},
   "outputs": [],
   "source": [
    "#Define the model\n",
    "model = keras.Sequential([\n",
    "    layers.Conv2D(32,(3,3),activation='relu',input_shape=(IMG_SIZE,IMG_SIZE,3)),\n",
    "    layers.MaxPooling2D((2,2)),\n",
    "    layers.Conv2D(64,(3,3),activation='relu'),\n",
    "    layers.MaxPooling2D((2,2)),\n",
    "    layers.Conv2D(128,(3,3),activation='relu'),\n",
    "    layers.MaxPooling2D((2,2)),\n",
    "    layers.Flatten(),\n",
    "    layers.Dense(128,activation='relu'),\n",
    "    layers.Dense(1,activation='sigmoid')\n",
    "])"
   ]
  },
  {
   "cell_type": "code",
   "execution_count": 9,
   "id": "a3fd252c",
   "metadata": {},
   "outputs": [],
   "source": [
    "#Compile the model\n",
    "model.compile(optimizer='adam',loss='binary_crossentropy',metrics=['accuracy'])\n"
   ]
  },
  {
   "cell_type": "code",
   "execution_count": 10,
   "id": "26237cf5",
   "metadata": {},
   "outputs": [
    {
     "name": "stdout",
     "output_type": "stream",
     "text": [
      "Epoch 1/8\n",
      "WARNING:tensorflow:From C:\\Users\\tanya\\AppData\\Roaming\\Python\\Python311\\site-packages\\keras\\src\\utils\\tf_utils.py:492: The name tf.ragged.RaggedTensorValue is deprecated. Please use tf.compat.v1.ragged.RaggedTensorValue instead.\n",
      "\n",
      "WARNING:tensorflow:From C:\\Users\\tanya\\AppData\\Roaming\\Python\\Python311\\site-packages\\keras\\src\\engine\\base_layer_utils.py:384: The name tf.executing_eagerly_outside_functions is deprecated. Please use tf.compat.v1.executing_eagerly_outside_functions instead.\n",
      "\n",
      "66/66 [==============================] - 72s 1s/step - loss: 0.6359 - accuracy: 0.6659 - val_loss: 0.6339 - val_accuracy: 0.6945\n",
      "Epoch 2/8\n",
      "66/66 [==============================] - 67s 1s/step - loss: 0.4561 - accuracy: 0.7716 - val_loss: 0.5135 - val_accuracy: 0.7400\n",
      "Epoch 3/8\n",
      "66/66 [==============================] - 67s 1s/step - loss: 0.3884 - accuracy: 0.7981 - val_loss: 0.5675 - val_accuracy: 0.7135\n",
      "Epoch 4/8\n",
      "66/66 [==============================] - 67s 1s/step - loss: 0.3632 - accuracy: 0.8190 - val_loss: 0.4799 - val_accuracy: 0.7818\n",
      "Epoch 5/8\n",
      "66/66 [==============================] - 67s 1s/step - loss: 0.3319 - accuracy: 0.8379 - val_loss: 0.5065 - val_accuracy: 0.7457\n",
      "Epoch 6/8\n",
      "66/66 [==============================] - 87s 1s/step - loss: 0.3467 - accuracy: 0.8308 - val_loss: 0.5211 - val_accuracy: 0.7154\n",
      "Epoch 7/8\n",
      "66/66 [==============================] - 67s 1s/step - loss: 0.2912 - accuracy: 0.8602 - val_loss: 0.4883 - val_accuracy: 0.7856\n",
      "Epoch 8/8\n",
      "66/66 [==============================] - 67s 1s/step - loss: 0.2651 - accuracy: 0.8768 - val_loss: 0.5429 - val_accuracy: 0.7761\n"
     ]
    },
    {
     "data": {
      "text/plain": [
       "<keras.src.callbacks.History at 0x1bcf707d990>"
      ]
     },
     "execution_count": 10,
     "metadata": {},
     "output_type": "execute_result"
    }
   ],
   "source": [
    "model.fit(train_generator,validation_data=val_generator,epochs=8)"
   ]
  },
  {
   "cell_type": "code",
   "execution_count": 14,
   "id": "156e1bf4",
   "metadata": {},
   "outputs": [],
   "source": [
    "model.save(\"model.h5\",\"label.txt\")"
   ]
  },
  {
   "cell_type": "code",
   "execution_count": null,
   "id": "5e2ce7d6",
   "metadata": {},
   "outputs": [],
   "source": []
  }
 ],
 "metadata": {
  "kernelspec": {
   "display_name": "Python 3 (ipykernel)",
   "language": "python",
   "name": "python3"
  },
  "language_info": {
   "codemirror_mode": {
    "name": "ipython",
    "version": 3
   },
   "file_extension": ".py",
   "mimetype": "text/x-python",
   "name": "python",
   "nbconvert_exporter": "python",
   "pygments_lexer": "ipython3",
   "version": "3.11.5"
  }
 },
 "nbformat": 4,
 "nbformat_minor": 5
}
