{
  "nbformat": 4,
  "nbformat_minor": 0,
  "metadata": {
    "colab": {
      "provenance": []
    },
    "kernelspec": {
      "name": "python3",
      "display_name": "Python 3"
    },
    "language_info": {
      "name": "python"
    }
  },
  "cells": [
    {
      "cell_type": "code",
      "execution_count": null,
      "metadata": {
        "colab": {
          "base_uri": "https://localhost:8080/"
        },
        "id": "YTGifCnCO63T",
        "outputId": "ef22704e-b01f-4205-f329-7cdd321e3b51"
      },
      "outputs": [
        {
          "output_type": "stream",
          "name": "stdout",
          "text": [
            "Enter API Key:fbbeufbef\n",
            "Enter City name:Eluru\n",
            "{'error': {'code': 2008, 'message': 'API key has been disabled.'}}\n",
            "API key provided is invalid\n"
          ]
        }
      ],
      "source": [
        "#MY OWN APP CREATION WITH API KEY\n",
        "import requests\n",
        "api_key=input(\"Enter API Key:\")#'cc96f18beaa343bca6a53605242802'\n",
        "city=input(\"Enter City name:\")\n",
        "url=f\"http://api.weatherapi.com/v1/current.json?key={api_key}&q={city}\"#{} - customization\n",
        "response=requests.get(url)\n",
        "data=response.json()\n",
        "print(data)\n",
        "if data['error']['code']==1006:\n",
        "  print(\"No location found\")\n",
        "elif data['error']['code']==2008:\n",
        "  print(\"API key provided is invalid\")\n",
        "else:\n",
        "  print(\"City:\",data[\"location\"][\"name\"])\n",
        "  print(\"State:\",data[\"location\"][\"region\"])\n",
        "  print(\"Current Condition:\",data[\"current\"][\"condition\"][\"text\"])\n",
        "  print(\"Country:\",data[\"location\"][\"country\"])\n",
        "  print(\"Temperature:\",data[\"current\"][\"temp_c\"])\n",
        "  print(\"Wind Speed:\",data[\"current\"][\"wind_mph\"])\n",
        "  print(\"Wind Direction:\",data[\"current\"][\"wind_dir\"])\n",
        "  print(\"Humidity:\",data[\"current\"][\"humidity\"])\n",
        "  print(\"feels:\",data[\"current\"][\"feelslike_c\"])"
      ]
    },
    {
      "cell_type": "code",
      "source": [
        "type(data)"
      ],
      "metadata": {
        "colab": {
          "base_uri": "https://localhost:8080/"
        },
        "id": "dVUDMwaBSb9m",
        "outputId": "8ec58ef3-5716-4ff8-8de7-b743e73b9be2"
      },
      "execution_count": null,
      "outputs": [
        {
          "output_type": "execute_result",
          "data": {
            "text/plain": [
              "dict"
            ]
          },
          "metadata": {},
          "execution_count": 14
        }
      ]
    },
    {
      "cell_type": "code",
      "source": [
        "#city name\n",
        "#state region\n",
        "#country country\n",
        "#current condition text\n",
        "#temperature degree celsius temp_C\n",
        "#wind speed(mph) wind_mph\n",
        "#wind direction\n",
        "#humidity humidity\n",
        "#feels feels_like_c\n",
        "print(\"City:\",data[\"location\"][\"name\"])\n",
        "print(\"State:\",data[\"location\"][\"region\"])\n",
        "print(\"Current Condition:\",data[\"current\"][\"condition\"][\"text\"])\n",
        "print(\"Country:\",data[\"location\"][\"country\"])\n",
        "print(\"Temperature:\",data[\"current\"][\"temp_c\"])\n",
        "print(\"Wind Speed:\",data[\"current\"][\"wind_mph\"])\n",
        "print(\"Wind Direction:\",data[\"current\"][\"wind_dir\"])\n",
        "print(\"Humidity:\",data[\"current\"][\"humidity\"])\n",
        "print(\"feels:\",data[\"current\"][\"feelslike_c\"])"
      ],
      "metadata": {
        "colab": {
          "base_uri": "https://localhost:8080/"
        },
        "id": "OPI-7VjGSoVO",
        "outputId": "bd60080d-391c-48da-e637-c1905fe5da2b"
      },
      "execution_count": null,
      "outputs": [
        {
          "output_type": "stream",
          "name": "stdout",
          "text": [
            "City: Tadepalligudem\n",
            "State: Andhra Pradesh\n",
            "Current Condition: Sunny\n",
            "Country: India\n",
            "Temperature: 33.9\n",
            "Wind Speed: 5.1\n",
            "Wind Direction: ESE\n",
            "Humidity: 32\n",
            "feels: 34.2\n"
          ]
        }
      ]
    },
    {
      "cell_type": "code",
      "source": [
        "import requests\n",
        "api_key='cc96f18beaa343bca6a53605242802'\n",
        "city=input(\"Enter City name:\")\n",
        "url=f\"http://api.weatherapi.com/v1/current.json?key={api_key}&q={city}\"#{} - customization\n",
        "response=requests.get(url)\n",
        "data=response.json()\n",
        "print(data)\n",
        "if response.status_code==200:\n",
        "  print(\"City:\",data[\"location\"][\"name\"])\n",
        "  print(\"State:\",data[\"location\"][\"region\"])\n",
        "  print(\"Current Condition:\",data[\"current\"][\"condition\"][\"text\"])\n",
        "  print(\"Country:\",data[\"location\"][\"country\"])\n",
        "  print(\"Temperature:\",data[\"current\"][\"temp_c\"])\n",
        "  print(\"Wind Speed:\",data[\"current\"][\"wind_mph\"])\n",
        "  print(\"Wind Direction:\",data[\"current\"][\"wind_dir\"])\n",
        "  print(\"Humidity:\",data[\"current\"][\"humidity\"])\n",
        "  print(\"feels:\",data[\"current\"][\"feelslike_c\"])\n",
        "else:\n",
        "  print(data['error']['message'])"
      ],
      "metadata": {
        "colab": {
          "base_uri": "https://localhost:8080/"
        },
        "id": "gr-1CPd5a0u6",
        "outputId": "0aea8277-f7ca-4490-bb5b-6d222c8dd1fe"
      },
      "execution_count": null,
      "outputs": [
        {
          "output_type": "stream",
          "name": "stdout",
          "text": [
            "Enter City name:Eluru\n",
            "{'location': {'name': 'Eluru', 'region': 'Andhra Pradesh', 'country': 'India', 'lat': 16.7, 'lon': 81.1, 'tz_id': 'Asia/Kolkata', 'localtime_epoch': 1709102069, 'localtime': '2024-02-28 12:04'}, 'current': {'last_updated_epoch': 1709101800, 'last_updated': '2024-02-28 12:00', 'temp_c': 31.0, 'temp_f': 87.8, 'is_day': 1, 'condition': {'text': 'Partly cloudy', 'icon': '//cdn.weatherapi.com/weather/64x64/day/116.png', 'code': 1003}, 'wind_mph': 6.9, 'wind_kph': 11.2, 'wind_degree': 90, 'wind_dir': 'E', 'pressure_mb': 1014.0, 'pressure_in': 29.94, 'precip_mm': 0.0, 'precip_in': 0.0, 'humidity': 52, 'cloud': 25, 'feelslike_c': 29.6, 'feelslike_f': 85.3, 'vis_km': 6.0, 'vis_miles': 3.0, 'uv': 9.0, 'gust_mph': 7.2, 'gust_kph': 11.6}}\n",
            "City: Eluru\n",
            "State: Andhra Pradesh\n",
            "Current Condition: Partly cloudy\n",
            "Country: India\n",
            "Temperature: 31.0\n",
            "Wind Speed: 6.9\n",
            "Wind Direction: E\n",
            "Humidity: 52\n",
            "feels: 29.6\n"
          ]
        }
      ]
    },
    {
      "cell_type": "code",
      "source": [
        "\n"
      ],
      "metadata": {
        "id": "ln78y0FSS8kf"
      },
      "execution_count": null,
      "outputs": []
    }
  ]
}